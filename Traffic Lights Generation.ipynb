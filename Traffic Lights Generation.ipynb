{
  "nbformat": 4,
  "nbformat_minor": 0,
  "metadata": {
    "colab": {
      "provenance": [],
      "authorship_tag": "ABX9TyMkYxCrnZJV0BMvvs8SUa+/",
      "include_colab_link": true
    },
    "kernelspec": {
      "name": "python3",
      "display_name": "Python 3"
    },
    "language_info": {
      "name": "python"
    }
  },
  "cells": [
    {
      "cell_type": "markdown",
      "metadata": {
        "id": "view-in-github",
        "colab_type": "text"
      },
      "source": [
        "<a href=\"https://colab.research.google.com/github/shirin1704/Python-Repository/blob/main/Traffic%20Lights%20Generation.ipynb\" target=\"_parent\"><img src=\"https://colab.research.google.com/assets/colab-badge.svg\" alt=\"Open In Colab\"/></a>"
      ]
    },
    {
      "cell_type": "markdown",
      "source": [
        "Importing Libraries"
      ],
      "metadata": {
        "id": "xuDUWxgfTAPu"
      }
    },
    {
      "cell_type": "code",
      "execution_count": null,
      "metadata": {
        "id": "IatFTqcElCV7"
      },
      "outputs": [],
      "source": [
        "import pandas as pd\n",
        "import matplotlib.pyplot as plt\n",
        "import numpy as np\n",
        "import glob"
      ]
    },
    {
      "cell_type": "markdown",
      "source": [
        "Enter 6 months PALMS report in 'palms'<br>\n",
        "Enter 6 months training report in 'training'<br>\n",
        "**needs to be updated every month**"
      ],
      "metadata": {
        "id": "nA4b5YPiTCvI"
      }
    },
    {
      "cell_type": "code",
      "source": [
        "palms = pd.read_csv(\"/content/6 Months Palms October 24.csv\")\n",
        "training = pd.read_csv(\"/content/Training Report October 24.csv\")"
      ],
      "metadata": {
        "id": "OU7_kxLulztp"
      },
      "execution_count": null,
      "outputs": []
    },
    {
      "cell_type": "markdown",
      "source": [
        "Extracting useful columns from PALMS report into a dataframe<br>\n",
        "Calculating number of weeks<br>\n",
        "Calculating total referrals given<br>\n",
        "Renaming columns for basic formatting"
      ],
      "metadata": {
        "id": "ksIuguzST9Og"
      }
    },
    {
      "cell_type": "code",
      "source": [
        "palms_columns = ['Chapter', 'First Name','Last Name', 'P', 'A', 'L', 'M', 'S', 'RGI', 'RGO', 'V', 'TYFCB (INR)', 'T']\n",
        "palms_processed = pd.DataFrame(palms[palms_columns])\n",
        "palms_processed[\"Weeks\"] = palms_processed['P'] + palms_processed['A'] + palms_processed['L'] + palms_processed['M'] + palms_processed['S']\n",
        "palms_processed[\"Referrals Given\"] = palms_processed['RGI'] + palms_processed['RGO']\n",
        "palms_processed.rename(columns = {'V':'Visitors', 'T':'Testimonials'}, inplace = True)\n",
        "palms_processed"
      ],
      "metadata": {
        "id": "EMB6jjLRsvWw"
      },
      "execution_count": null,
      "outputs": []
    },
    {
      "cell_type": "markdown",
      "source": [
        "Extracting useful columns from training report into a dataframe<br>\n",
        "Creating a new column that combines chapter name, first name and last name so joining dataframes becomes easier<br>\n",
        "Counting number of trainings for each member and renaming the column for basic formatting"
      ],
      "metadata": {
        "id": "B1cag5SBUbWz"
      }
    },
    {
      "cell_type": "code",
      "source": [
        "training_columns = ['Chapter Name', 'First Name', 'Last Name']\n",
        "training_processed = pd.DataFrame(training[training_columns])\n",
        "training_processed[\"Name\"] = training_processed['Chapter Name'] + training_processed['First Name'] + training_processed['Last Name']\n",
        "training_processed = training_processed.Name.value_counts().reset_index()\n",
        "training_processed.rename(columns = {'count' : 'Training Count'}, inplace = True)\n",
        "training_processed"
      ],
      "metadata": {
        "id": "dpWjZs0AwlEK"
      },
      "execution_count": null,
      "outputs": []
    },
    {
      "cell_type": "markdown",
      "source": [
        "Creating a new column in the PALMS report that combines chapter name, first name and last name so joining the dataframes becomes easier"
      ],
      "metadata": {
        "id": "q4X13vj3UzR_"
      }
    },
    {
      "cell_type": "code",
      "source": [
        "palms_processed[\"Name\"] = palms_processed['Chapter'] + palms_processed['First Name'] + palms_processed['Last Name']\n",
        "palms_processed"
      ],
      "metadata": {
        "id": "_c5S7TDUynzX"
      },
      "execution_count": null,
      "outputs": []
    },
    {
      "cell_type": "markdown",
      "source": [
        "Joining the dataframes based on the new Name column created using an outer join so values that do not find a match are automatically assigned a null value<br>\n",
        "Replacing the null values in the training count column with the value 0"
      ],
      "metadata": {
        "id": "040o6ZDVVBXx"
      }
    },
    {
      "cell_type": "code",
      "source": [
        "final_file = palms_processed.merge(training_processed, on = 'Name', how = 'outer')\n",
        "final_file = final_file.drop('Name', axis = 1)\n",
        "final_file['Training Count'] = final_file['Training Count'].fillna(0)\n",
        "final_file"
      ],
      "metadata": {
        "id": "2Qtsbltq62rh"
      },
      "execution_count": null,
      "outputs": []
    },
    {
      "cell_type": "markdown",
      "source": [
        "Calculating the score for Absenteeism"
      ],
      "metadata": {
        "id": "zaEwNX_2VaZ4"
      }
    },
    {
      "cell_type": "code",
      "source": [
        "final_file['Absent Score'] = 0\n",
        "final_file.loc[final_file['A'] > 2, 'Absent Score'] = 0\n",
        "final_file.loc[final_file['A'] == 2, 'Absent Score'] = 5\n",
        "final_file.loc[final_file['A'] == 1, 'Absent Score'] = 10\n",
        "final_file.loc[final_file['A'] < 1, 'Absent Score'] = 15\n",
        "final_file"
      ],
      "metadata": {
        "id": "fftZ4iGKHSZF"
      },
      "execution_count": null,
      "outputs": []
    },
    {
      "cell_type": "markdown",
      "source": [
        "Calculating the score for Referrals Given per Week"
      ],
      "metadata": {
        "id": "lGHz-nZcVedM"
      }
    },
    {
      "cell_type": "code",
      "source": [
        "final_file['Referrals/Week'] = final_file['Referrals Given']/final_file['Weeks']\n",
        "final_file['Referrals Score'] = 0\n",
        "final_file.loc[final_file['Referrals/Week'] < 0.5, 'Referrals Score'] = 0\n",
        "final_file.loc[(final_file['Referrals/Week'] < 0.75) & (final_file['Referrals/Week'] >= 0.5), 'Referrals Score'] = 5\n",
        "final_file.loc[(final_file['Referrals/Week'] < 1) & (final_file['Referrals/Week'] >= 0.75), 'Referrals Score'] = 10\n",
        "final_file.loc[(final_file['Referrals/Week'] < 1.2) & (final_file['Referrals/Week'] >= 1), 'Referrals Score'] = 15\n",
        "final_file.loc[final_file['Referrals/Week'] >= 1.2, 'Referrals Score'] = 20\n",
        "final_file"
      ],
      "metadata": {
        "id": "8u_-Jdl-IdbN"
      },
      "execution_count": null,
      "outputs": []
    },
    {
      "cell_type": "markdown",
      "source": [
        "Calculating the score for TYFTB"
      ],
      "metadata": {
        "id": "ci3TbRIQVmVQ"
      }
    },
    {
      "cell_type": "code",
      "source": [
        "final_file['TYFTB Score'] = 0\n",
        "final_file.loc[final_file['TYFCB (INR)'] < 500000, 'TYFTB Score'] = 0\n",
        "final_file.loc[(final_file['TYFCB (INR)'] < 1000000) & (final_file['TYFCB (INR)'] >= 500000), 'TYFTB Score'] = 5\n",
        "final_file.loc[(final_file['TYFCB (INR)'] < 2000000) & (final_file['TYFCB (INR)'] >= 1000000), 'TYFTB Score'] = 10\n",
        "final_file.loc[final_file['TYFCB (INR)'] >= 2000000, 'TYFTB Score'] = 15\n",
        "final_file"
      ],
      "metadata": {
        "id": "bGaF-Yw9LK-S"
      },
      "execution_count": null,
      "outputs": []
    },
    {
      "cell_type": "markdown",
      "source": [
        "Calculating the score for Visitors per Week"
      ],
      "metadata": {
        "id": "RhXkr2yAVpCF"
      }
    },
    {
      "cell_type": "code",
      "source": [
        "final_file['Visitors/Week'] = final_file['Visitors']/final_file['Weeks']\n",
        "final_file['Visitors Score'] = 0\n",
        "final_file.loc[final_file['Visitors/Week'] < 0.1, 'Visitors Score'] = 0\n",
        "final_file.loc[(final_file['Visitors/Week'] < 0.25) & (final_file['Visitors/Week'] >= 0.1), 'Visitors Score'] = 5\n",
        "final_file.loc[(final_file['Visitors/Week'] < 0.5) & (final_file['Visitors/Week'] >= 0.25), 'Visitors Score'] = 10\n",
        "final_file.loc[(final_file['Visitors/Week'] < 0.75) & (final_file['Visitors/Week'] >= 0.5), 'Visitors Score'] = 15\n",
        "final_file.loc[final_file['Visitors/Week'] >= 0.75, 'Visitors Score'] = 20\n",
        "final_file"
      ],
      "metadata": {
        "id": "sLeKW0zDLHMK"
      },
      "execution_count": null,
      "outputs": []
    },
    {
      "cell_type": "markdown",
      "source": [
        "Calculating the score for Testimonials per Week"
      ],
      "metadata": {
        "id": "ipgtyb6AVsJV"
      }
    },
    {
      "cell_type": "code",
      "source": [
        "final_file['Testimonials/Week'] = final_file['Testimonials']/final_file['Weeks']\n",
        "final_file['Testimonials Score'] = 0\n",
        "final_file.loc[final_file['Testimonials/Week'] <= 0, 'Testimonials Score'] = 0\n",
        "final_file.loc[(final_file['Testimonials/Week'] < 0.075) & (final_file['Testimonials/Week'] > 0), 'Visitors Score'] = 5\n",
        "final_file.loc[final_file['Testimonials/Week'] >= 0.075, 'Testimonials Score'] = 10\n",
        "final_file"
      ],
      "metadata": {
        "id": "x8tKcFn0M9B8"
      },
      "execution_count": null,
      "outputs": []
    },
    {
      "cell_type": "markdown",
      "source": [
        "Calculating the score for Arriving on Time"
      ],
      "metadata": {
        "id": "HfQq4282VxFe"
      }
    },
    {
      "cell_type": "code",
      "source": [
        "final_file['Arriving on Time Score'] = 5\n",
        "final_file.loc[final_file['L'] >= 1, 'Arriving on Time Score'] = 0"
      ],
      "metadata": {
        "id": "4y8osXueNfEJ"
      },
      "execution_count": null,
      "outputs": []
    },
    {
      "cell_type": "markdown",
      "source": [
        "Calculating the score for Training"
      ],
      "metadata": {
        "id": "hXdN3LbbWGYh"
      }
    },
    {
      "cell_type": "code",
      "source": [
        "final_file['Training Score'] = 0\n",
        "final_file.loc[final_file['Training Count'] == 0, 'Training Score'] = 0\n",
        "final_file.loc[final_file['Training Count'] == 1, 'Training Score'] = 5\n",
        "final_file.loc[final_file['Training Count'] == 2, 'Training Score'] = 10\n",
        "final_file.loc[final_file['Training Count'] >= 3, 'Training Score'] = 15"
      ],
      "metadata": {
        "id": "H1V3qI3sN0Et"
      },
      "execution_count": null,
      "outputs": []
    },
    {
      "cell_type": "markdown",
      "source": [
        "Extracting only the column names of the final file"
      ],
      "metadata": {
        "id": "UazpPpkVWI28"
      }
    },
    {
      "cell_type": "code",
      "source": [
        "final_file.columns"
      ],
      "metadata": {
        "id": "yzHWCeq9OPIR"
      },
      "execution_count": null,
      "outputs": []
    },
    {
      "cell_type": "markdown",
      "source": [
        "Creating a report dataframe that includes each member's following details:\n",
        "<li>Chapter Name</li>\n",
        "<li>First Name</li>\n",
        "<li>Last Name</li>\n",
        "<li>Absent Score</li>\n",
        "<li>Referrals Score</li>\n",
        "<li>TYFTB Score</li>\n",
        "<li>Visitors Score</li>\n",
        "<li>Testimonials Score</li>\n",
        "<li>Arriving on Time Score</li>\n",
        "<li>Training Score</li>\n",
        "\n",
        "Generating a Total score by summing all the scores\n",
        "\n"
      ],
      "metadata": {
        "id": "sM7HW2VYWTmu"
      }
    },
    {
      "cell_type": "code",
      "source": [
        "name_columns = ['Chapter', 'First Name', 'Last Name']\n",
        "score_columns = ['Absent Score', 'Referrals Score', 'TYFTB Score', 'Visitors Score', 'Testimonials Score', 'Arriving on Time Score', 'Training Score']\n",
        "report_columns = name_columns + score_columns\n",
        "report = pd.DataFrame(final_file[report_columns])\n",
        "report['Total'] = 0\n",
        "for score in score_columns:\n",
        "  report['Total'] = report['Total'] + report[score]\n",
        "report"
      ],
      "metadata": {
        "id": "j7CEqe-cFCJP"
      },
      "execution_count": null,
      "outputs": []
    },
    {
      "cell_type": "markdown",
      "source": [
        "Exporting the report dataframe for the given month into an excel sheet<br>\n",
        "**needs to be changed every month**"
      ],
      "metadata": {
        "id": "bGsd7STtXXOT"
      }
    },
    {
      "cell_type": "code",
      "source": [
        "report.to_excel('October 2024.xlsx')"
      ],
      "metadata": {
        "id": "JeIlfZqMG8Ku"
      },
      "execution_count": null,
      "outputs": []
    }
  ]
}