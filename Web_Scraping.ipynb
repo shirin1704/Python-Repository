{
  "nbformat": 4,
  "nbformat_minor": 0,
  "metadata": {
    "colab": {
      "provenance": [],
      "authorship_tag": "ABX9TyPkxpxzIt/Z/22po2bZq9eI",
      "include_colab_link": true
    },
    "kernelspec": {
      "name": "python3",
      "display_name": "Python 3"
    },
    "language_info": {
      "name": "python"
    }
  },
  "cells": [
    {
      "cell_type": "markdown",
      "metadata": {
        "id": "view-in-github",
        "colab_type": "text"
      },
      "source": [
        "<a href=\"https://colab.research.google.com/github/shirin1704/Python-Repository/blob/main/Web_Scraping.ipynb\" target=\"_parent\"><img src=\"https://colab.research.google.com/assets/colab-badge.svg\" alt=\"Open In Colab\"/></a>"
      ]
    },
    {
      "cell_type": "code",
      "execution_count": 1,
      "metadata": {
        "id": "TTS6yR_S3den"
      },
      "outputs": [],
      "source": [
        "import pandas as pd\n",
        "from bs4 import BeautifulSoup as bs\n",
        "from urllib.request import urlopen\n",
        "import requests"
      ]
    },
    {
      "cell_type": "code",
      "source": [
        "ReviewsURL=\"https://www.amazon.in/Introducing-Echo-Pop-Smart-speaker-Green/product-reviews/B09ZXCBR5T/ref=s9_acsd_al_ot_c2_x_0_t?_encoding=UTF8&pf_rd_m=A21TJRUUN4KGV&pf_rd_s=merchandised-search-4&pf_rd_r=S4615PXDYCE059CJ0XW9&pf_rd_p=e4fb1b22-f85d-42aa-a0d0-dbe617041248&pf_rd_t=&pf_rd_i=14156834031\"\n",
        "reviewsList=[]\n",
        "header={'user-agent': 'Mozilla/5.0 (Windows NT 10.0; Win64; x64) AppleWebKit/537.36 (KHTML, like Gecko) Chrome/78.0.3904.97 Safari/537.36'}"
      ],
      "metadata": {
        "id": "mqPXhzfv3lgi"
      },
      "execution_count": 2,
      "outputs": []
    },
    {
      "cell_type": "code",
      "source": [
        "def pageReviews(pagenum):\n",
        "  pager=[]\n",
        "  html=requests.get((ReviewsURL+f\"&pageNumber={pagenum}\"), headers=header)\n",
        "  soup=bs(html.content)\n",
        "  #print(type(soup))\n",
        "  title=soup.title\n",
        "  #print(title)\n",
        "  reviews=soup.find_all('div', {'data-hook':'review'})\n",
        "  reviews=list(reviews)\n",
        "  #print(reviews)\n",
        "  for item in reviews:\n",
        "    review={'Product': title.text.replace(\"Amazon.in:Customer reviews: \", \"\").strip(),\n",
        "          'Review Title': (item.find('a', {'data-hook':'review-title'}).text.strip().replace('\\n', \"\"))[18:],\n",
        "          'Date':item.find('span', {'data-hook':'review-date'}).text.strip().replace(\"Reviewed in India on \", \"\"),\n",
        "          'Rating': item.find('i', {'data-hook':'review-star-rating'}).text.strip(),\n",
        "          'Review Content':item.find('span', {'data-hook': 'review-body'}).text.strip()\n",
        "        }\n",
        "    #print(review['Review Title'])\n",
        "    pager.append(review)\n",
        "  return pager"
      ],
      "metadata": {
        "id": "Zth9fdks4QMh"
      },
      "execution_count": 3,
      "outputs": []
    },
    {
      "cell_type": "code",
      "source": [
        "for i in range(1,10):\n",
        "  pager=[]\n",
        "  pager=pageReviews(i)\n",
        "  reviewsList.extend(pager)"
      ],
      "metadata": {
        "id": "ZRrm73OY4Dal"
      },
      "execution_count": 4,
      "outputs": []
    },
    {
      "cell_type": "code",
      "source": [
        "reviewsDF=pd.DataFrame(reviewsList)\n",
        "print(reviewsDF)"
      ],
      "metadata": {
        "colab": {
          "base_uri": "https://localhost:8080/"
        },
        "id": "G2Tqbi_V3wjK",
        "outputId": "aa2b7282-2046-4a0f-846e-047ed4547ad3"
      },
      "execution_count": 5,
      "outputs": [
        {
          "output_type": "stream",
          "name": "stdout",
          "text": [
            "                                              Product  \\\n",
            "0   Amazon Echo Pop| Smart speaker with Alexa and ...   \n",
            "1   Amazon Echo Pop| Smart speaker with Alexa and ...   \n",
            "2   Amazon Echo Pop| Smart speaker with Alexa and ...   \n",
            "3   Amazon Echo Pop| Smart speaker with Alexa and ...   \n",
            "4   Amazon Echo Pop| Smart speaker with Alexa and ...   \n",
            "..                                                ...   \n",
            "80  Amazon Echo Pop| Smart speaker with Alexa and ...   \n",
            "81  Amazon Echo Pop| Smart speaker with Alexa and ...   \n",
            "82  Amazon Echo Pop| Smart speaker with Alexa and ...   \n",
            "83  Amazon Echo Pop| Smart speaker with Alexa and ...   \n",
            "84  Amazon Echo Pop| Smart speaker with Alexa and ...   \n",
            "\n",
            "                                        Review Title               Date  \\\n",
            "0   A Compact Powerhouse of Sound and Smart Features    21 January 2024   \n",
            "1        Speaker quality a little below expectations    26 October 2023   \n",
            "2                                           Echo pop   23 February 2024   \n",
            "3                             A great smart speaker!    30 October 2023   \n",
            "4                                  Wonderful product   17 November 2023   \n",
            "..                                               ...                ...   \n",
            "80                                      Purple color  25 September 2023   \n",
            "81                               Amazon Spying on us        8 June 2023   \n",
            "82                                      Good Product       22 June 2023   \n",
            "83                                      Good looking        31 May 2023   \n",
            "84                     Voice recognition is Not good    18 October 2023   \n",
            "\n",
            "                Rating                                     Review Content  \n",
            "0   5.0 out of 5 stars  After using the Echo Pop Smart Speaker for a f...  \n",
            "1   4.0 out of 5 stars  Bought it as an upgrade to my old echo dot. Co...  \n",
            "2   5.0 out of 5 stars                                       Nice product  \n",
            "3   5.0 out of 5 stars  Excellent smart speaker with built in Alexa an...  \n",
            "4   5.0 out of 5 stars  It was something which I actually longed for. ...  \n",
            "..                 ...                                                ...  \n",
            "80  2.0 out of 5 stars  They must have motion cancer and good sound qu...  \n",
            "81  2.0 out of 5 stars  I feel alexa is spying.i feel many time becaus...  \n",
            "82  5.0 out of 5 stars  This is a good product. Listens to commands ve...  \n",
            "83  5.0 out of 5 stars  Awesome I like colour and design thanks to ama...  \n",
            "84  1.0 out of 5 stars  The media could not be loaded.\\n              ...  \n",
            "\n",
            "[85 rows x 5 columns]\n"
          ]
        }
      ]
    },
    {
      "cell_type": "code",
      "source": [
        "reviewsDF.to_csv('Amazon Reviews.csv', index=False)\n",
        "reviewsDF.to_excel('Amazon Reviews.xlsx', index=False)"
      ],
      "metadata": {
        "id": "QyBFaXWY6Qia"
      },
      "execution_count": 6,
      "outputs": []
    }
  ]
}